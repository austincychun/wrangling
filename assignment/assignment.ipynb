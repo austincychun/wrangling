{
  "cells": [
    {
      "cell_type": "markdown",
      "id": "13ad028b-72b7-43ed-aa78-96fd4e518040",
      "metadata": {
        "id": "13ad028b-72b7-43ed-aa78-96fd4e518040"
      },
      "source": [
        "# Assignment: Data Wrangling\n",
        "### `! git clone https://github.com/ds4e/wrangling`\n",
        "### Do Q1 and Q2, and either Q3 or Q4, for a total of 3 questions."
      ]
    },
    {
      "cell_type": "code",
      "source": [
        "! git clone https://github.com/ds4e/wrangling"
      ],
      "metadata": {
        "id": "45q2M3fmX2hn",
        "outputId": "a7be93a2-3330-4aa0-eae9-628b2306f8e5",
        "colab": {
          "base_uri": "https://localhost:8080/"
        }
      },
      "id": "45q2M3fmX2hn",
      "execution_count": 29,
      "outputs": [
        {
          "output_type": "stream",
          "name": "stdout",
          "text": [
            "fatal: destination path 'wrangling' already exists and is not an empty directory.\n"
          ]
        }
      ]
    },
    {
      "cell_type": "markdown",
      "id": "da879ea7-8aac-48a3-b6c2-daea56d2e072",
      "metadata": {
        "id": "da879ea7-8aac-48a3-b6c2-daea56d2e072"
      },
      "source": [
        "**Q1.** This question provides some practice cleaning variables which have common problems.\n",
        "1. Numeric variable: For `./data/airbnb_hw.csv`, clean the `Price` variable as well as you can, and explain the choices you make. How many missing values do you end up with? (Hint: What happens to the formatting when a price goes over 999 dollars, say from 675 to 1,112?)\n",
        "2. Categorical variable: For the Minnesota police use of for data, `./data/mn_police_use_of_force.csv`, clean the `subject_injury` variable, handling the NA's; this gives a value `Yes` when a person was injured by police, and `No` when no injury occurred. What proportion of the values are missing? Is this a concern? Cross-tabulate your cleaned `subject_injury` variable with the `force_type` variable. Are there any patterns regarding when the data are missing?\n",
        "3. Dummy variable: For the pretrial data covered in the lecture, clean the `WhetherDefendantWasReleasedPretrial` variable as well as you can, and, in particular, replace missing values with `np.nan`.\n",
        "4. Missing values, not at random: For the pretrial data covered in the lecture, clean the `ImposedSentenceAllChargeInContactEvent` variable as well as you can, and explain the choices you make. (Hint: Look at the `SentenceTypeAllChargesAtConvictionInContactEvent` variable.)"
      ]
    },
    {
      "cell_type": "code",
      "source": [
        "import pandas as pd\n",
        "import numpy as np\n",
        "\n",
        "# Read the CSV file\n",
        "df = pd.read_csv('/content/wrangling/assignment/data/airbnb_hw.csv')\n",
        "\n",
        "# Clean the Price variable\n",
        "df['Price_cleaned'] = df['Price'].str.replace('$', '', regex=False)\n",
        "df['Price_cleaned'] = df['Price_cleaned'].str.replace(',', '', regex=False)\n",
        "df['Price_cleaned'] = pd.to_numeric(df['Price_cleaned'], errors='coerce')\n",
        "\n",
        "# Count missing values\n",
        "missing_values = df['Price_cleaned'].isna().sum()\n",
        "\n",
        "print(f\"Number of missing values after cleaning: {missing_values}\")"
      ],
      "metadata": {
        "id": "Q96LHo3NWQHN",
        "outputId": "0fc3d461-b5a3-4d98-b4d0-c3ee9d69b82b",
        "colab": {
          "base_uri": "https://localhost:8080/"
        }
      },
      "id": "Q96LHo3NWQHN",
      "execution_count": 37,
      "outputs": [
        {
          "output_type": "stream",
          "name": "stdout",
          "text": [
            "Number of missing values after cleaning: 0\n"
          ]
        }
      ]
    },
    {
      "cell_type": "markdown",
      "source": [
        "1) When looking to clean the Price Variable we can see that the numbers are strings. To fix this we should drop the commas for numbers over 999 and once this is done we can convert it to numeric. When looking for null values there seem to be none."
      ],
      "metadata": {
        "id": "K90GIZmEeMCv"
      },
      "id": "K90GIZmEeMCv"
    },
    {
      "cell_type": "code",
      "source": [
        "import pandas as pd\n",
        "import numpy as np\n",
        "\n",
        "# Load the data\n",
        "df = pd.read_csv('/content/wrangling/assignment/data/mn_police_use_of_force.csv')\n",
        "\n",
        "# Clean the subject_injury variable\n",
        "df['subject_injury_clean'] = df['subject_injury'].fillna('Missing')\n",
        "df['subject_injury_clean'] = df['subject_injury_clean'].replace({'Y': 'Yes', 'N': 'No'})\n",
        "\n",
        "# Calculate the proportion of missing values\n",
        "missing_proportion = (df['subject_injury'].isna().sum() / len(df)) * 100\n",
        "\n",
        "print(f\"Proportion of missing values in subject_injury: {missing_proportion:.2f}%\")\n",
        "\n",
        "# Cross-tabulate cleaned subject_injury with force_type\n",
        "cross_tab = pd.crosstab(df['force_type'], df['subject_injury_clean'], normalize='index')\n",
        "\n",
        "print(\"\\nCross-tabulation of force_type and subject_injury (percentages):\")\n",
        "print(cross_tab * 100)\n",
        "\n",
        "# Calculate raw counts\n",
        "cross_tab_counts = pd.crosstab(df['force_type'], df['subject_injury_clean'])\n",
        "\n",
        "print(\"\\nCross-tabulation of force_type and subject_injury (counts):\")\n",
        "print(cross_tab_counts)\n"
      ],
      "metadata": {
        "id": "16Axfh9ifKds",
        "outputId": "7600c705-b4d7-4215-a6f8-9e1241deac4d",
        "colab": {
          "base_uri": "https://localhost:8080/"
        }
      },
      "id": "16Axfh9ifKds",
      "execution_count": 38,
      "outputs": [
        {
          "output_type": "stream",
          "name": "stdout",
          "text": [
            "Proportion of missing values in subject_injury: 76.19%\n",
            "\n",
            "Cross-tabulation of force_type and subject_injury (percentages):\n",
            "subject_injury_clean            Missing          No        Yes\n",
            "force_type                                                    \n",
            "Baton                         50.000000    0.000000  50.000000\n",
            "Bodily Force                  74.772004   11.590668  13.637328\n",
            "Chemical Irritant             89.202762    8.223478   2.573760\n",
            "Firearm                        0.000000  100.000000   0.000000\n",
            "Gun Point Display             25.961538   31.730769  42.307692\n",
            "Improvised Weapon             50.000000   22.972973  27.027027\n",
            "Less Lethal                  100.000000    0.000000   0.000000\n",
            "Less Lethal Projectile         0.000000   33.333333  66.666667\n",
            "Maximal Restraint Technique  100.000000    0.000000   0.000000\n",
            "Police K9 Bite                40.259740    2.597403  57.142857\n",
            "Taser                         75.363428   11.476664  13.159908\n",
            "\n",
            "Cross-tabulation of force_type and subject_injury (counts):\n",
            "subject_injury_clean         Missing    No   Yes\n",
            "force_type                                      \n",
            "Baton                              2     0     2\n",
            "Bodily Force                    7051  1093  1286\n",
            "Chemical Irritant               1421   131    41\n",
            "Firearm                            0     2     0\n",
            "Gun Point Display                 27    33    44\n",
            "Improvised Weapon                 74    34    40\n",
            "Less Lethal                       87     0     0\n",
            "Less Lethal Projectile             0     1     2\n",
            "Maximal Restraint Technique      170     0     0\n",
            "Police K9 Bite                    31     2    44\n",
            "Taser                            985   150   172\n"
          ]
        }
      ]
    },
    {
      "cell_type": "markdown",
      "source": [
        "2) Where seems to be a high percentage of missing values at 76.19% which could raise question to the quality of the data collected. With so much data it could be a collection error or biased in some way. When looking at patterns Bodily Force is the most frequently used tye of force. Some forces have 100% missing data for injuries like Less Lethal and Maximal Restraint Technqiues. This would me that the subject_injury column is somewhat unreliable due to the missing data issues."
      ],
      "metadata": {
        "id": "teSr1wJPgbGi"
      },
      "id": "teSr1wJPgbGi"
    },
    {
      "cell_type": "code",
      "source": [
        "df = pd.read_parquet('/content/wrangling/data/justice_data.parquet')\n",
        "\n",
        "# Convert to numeric type, coercing any non-numeric values to NaN\n",
        "df['WhetherDefendantWasReleasedPretrial'] = pd.to_numeric(df['WhetherDefendantWasReleasedPretrial'], errors='coerce')\n",
        "\n",
        "# Replace any NaN values with np.nan\n",
        "df['WhetherDefendantWasReleasedPretrial'] = df['WhetherDefendantWasReleasedPretrial'].replace({np.nan: np.nan})\n",
        "\n",
        "# Keep only 0, 1, and np.nan values\n",
        "df['WhetherDefendantWasReleasedPretrial'] = df['WhetherDefendantWasReleasedPretrial'].where(df['WhetherDefendantWasReleasedPretrial'].isin([0, 1]), np.nan)\n",
        "\n",
        "print(df['WhetherDefendantWasReleasedPretrial'].value_counts(dropna=False))\n"
      ],
      "metadata": {
        "id": "scrZDJGSqQA1",
        "outputId": "6d0f7719-51c0-4a0f-ca3f-c1703a7378a5",
        "colab": {
          "base_uri": "https://localhost:8080/"
        }
      },
      "id": "scrZDJGSqQA1",
      "execution_count": 53,
      "outputs": [
        {
          "output_type": "stream",
          "name": "stdout",
          "text": [
            "WhetherDefendantWasReleasedPretrial\n",
            "1.0    19154\n",
            "0.0     3801\n",
            "NaN       31\n",
            "Name: count, dtype: int64\n"
          ]
        }
      ]
    },
    {
      "cell_type": "code",
      "source": [
        "df = pd.read_parquet('/content/wrangling/data/justice_data.parquet')\n",
        "# Convert to numeric, coercing errors to NaN\n",
        "df['ImposedSentenceAllChargeInContactEvent'] = pd.to_numeric(df['ImposedSentenceAllChargeInContactEvent'], errors='coerce')\n",
        "\n",
        "# Replace 0 with NaN where SentenceType is not 'Time to serve'\n",
        "mask = (df['SentenceTypeAllChargesAtConvictionInContactEvent'] != 'Time to serve') & (df['ImposedSentenceAllChargeInContactEvent'] == 0)\n",
        "df.loc[mask, 'ImposedSentenceAllChargeInContactEvent'] = np.nan\n",
        "\n",
        "# Replace negative values with NaN\n",
        "df['ImposedSentenceAllChargeInContactEvent'] = df['ImposedSentenceAllChargeInContactEvent'].where(df['ImposedSentenceAllChargeInContactEvent'] >= 0, np.nan)\n",
        "\n",
        "# Cap unreasonably high values (e.g., over 100 years) at 36500 days (100 years)\n",
        "df['ImposedSentenceAllChargeInContactEvent'] = df['ImposedSentenceAllChargeInContactEvent'].clip(upper=36500)\n"
      ],
      "metadata": {
        "id": "oarA6uIatscZ"
      },
      "id": "oarA6uIatscZ",
      "execution_count": 59,
      "outputs": []
    },
    {
      "cell_type": "markdown",
      "source": [
        "4) First we want to unsure we are working with numerics and not strings. Replace 0 with NaN because a sentence of 0 days doesn't make sense. Replace negative values with NaN because those are likely errors. Lastly, capping unreasonably high values."
      ],
      "metadata": {
        "id": "Jze0rMx1ugFT"
      },
      "id": "Jze0rMx1ugFT"
    },
    {
      "cell_type": "markdown",
      "id": "5a60a44e",
      "metadata": {
        "id": "5a60a44e"
      },
      "source": [
        "**Q2.** Go to https://sharkattackfile.net/ and download their dataset on shark attacks.\n",
        "\n",
        "1. Open the shark attack file using Pandas. It is probably not a csv file, so `read_csv` won't work.\n",
        "2. Drop any columns that do not contain data.\n",
        "3. Clean the year variable. Describe the range of values you see. Filter the rows to focus on attacks since 1940. Are attacks increasing, decreasing, or remaining constant over time?\n",
        "4. Clean the Age variable and make a histogram of the ages of the victims.\n",
        "5. What proportion of victims are male?\n",
        "6. Clean the `Type` variable so it only takes three values: Provoked and Unprovoked and Unknown. What proportion of attacks are unprovoked?\n",
        "7. Clean the `Fatal Y/N` variable so it only takes three values: Y, N, and Unknown.\n",
        "8. Are sharks more likely to launch unprovoked attacks on men or women? Is the attack more or less likely to be fatal when the attack is provoked or unprovoked? Is it more or less likely to be fatal when the victim is male or female? How do you feel about sharks?\n",
        "9. What proportion of attacks appear to be by white sharks? (Hint: `str.split()` makes a vector of text values into a list of lists, split by spaces.)"
      ]
    },
    {
      "cell_type": "code",
      "source": [
        "# 1\n",
        "df = pd.read_excel('/content/wrangling/assignment/data/GSAF5.xls')|"
      ],
      "metadata": {
        "id": "oirhQwBuxIOb"
      },
      "id": "oirhQwBuxIOb",
      "execution_count": 85,
      "outputs": []
    },
    {
      "cell_type": "code",
      "source": [
        "#2\n",
        "# Drop columns without data (Unnamed: 22 to Unnamed: 255)\n",
        "df = df.drop(columns=[col for col in df.columns if col.startswith('Unnamed:')])\n",
        "\n",
        "# Display the remaining columns\n",
        "print(df.columns)"
      ],
      "metadata": {
        "id": "xq2AIk6UxmMG",
        "outputId": "efdec4bf-e55e-4d1b-ce11-b4c122dd9dfd",
        "colab": {
          "base_uri": "https://localhost:8080/"
        }
      },
      "id": "xq2AIk6UxmMG",
      "execution_count": 87,
      "outputs": [
        {
          "output_type": "stream",
          "name": "stdout",
          "text": [
            "Index(['Date', 'Year', 'Type', 'Country', 'State', 'Location', 'Activity',\n",
            "       'Name', 'Sex', 'Age', 'Injury', 'Fatal Y/N', 'Time', 'Species ',\n",
            "       'Source', 'pdf', 'href formula', 'href', 'Case Number', 'Case Number.1',\n",
            "       'original order'],\n",
            "      dtype='object')\n"
          ]
        }
      ]
    },
    {
      "cell_type": "code",
      "source": [
        "#3\n",
        "# Convert Year to numeric, coercing errors to NaN\n",
        "df['Year'] = pd.to_numeric(df['Year'], errors='coerce')\n",
        "\n",
        "# Filter rows since 1940\n",
        "df_filtered = df[df['Year'] >= 1940]\n",
        "\n",
        "# Get the count of each year\n",
        "year_counts = df_filtered['Year'].value_counts().sort_index()\n",
        "\n",
        "# Display the results\n",
        "print(year_counts)"
      ],
      "metadata": {
        "id": "-1XnDjcixx47",
        "outputId": "3d065bcf-e956-4b4a-d073-8c558a4f938b",
        "colab": {
          "base_uri": "https://localhost:8080/"
        }
      },
      "id": "-1XnDjcixx47",
      "execution_count": 88,
      "outputs": [
        {
          "output_type": "stream",
          "name": "stdout",
          "text": [
            "Year\n",
            "1940.0     24\n",
            "1941.0     27\n",
            "1942.0     41\n",
            "1943.0     28\n",
            "1944.0     31\n",
            "         ... \n",
            "2022.0     98\n",
            "2023.0    109\n",
            "2024.0     49\n",
            "2025.0      4\n",
            "2026.0      1\n",
            "Name: count, Length: 87, dtype: int64\n"
          ]
        }
      ]
    },
    {
      "cell_type": "markdown",
      "source": [
        "3. It seems taht the shark attacks are increaing over the years. But this could possibly be that it is easier to report these types of incidents. The range seems to be from 0 to 2026."
      ],
      "metadata": {
        "id": "Er-uUtY7zmpo"
      },
      "id": "Er-uUtY7zmpo"
    },
    {
      "cell_type": "code",
      "source": [
        "#4\n",
        "# Convert Age to numeric, coercing errors to NaN\n",
        "df['Age'] = pd.to_numeric(df['Age'], errors='coerce')\n",
        "\n",
        "# Create a histogram of ages\n",
        "df['Age'].hist(bins=20)\n",
        "#5"
      ],
      "metadata": {
        "id": "BXwC62kf0Lmf",
        "outputId": "9b082bc4-3660-43c3-d1d2-7aaf10937d15",
        "colab": {
          "base_uri": "https://localhost:8080/",
          "height": 448
        }
      },
      "id": "BXwC62kf0Lmf",
      "execution_count": 90,
      "outputs": [
        {
          "output_type": "execute_result",
          "data": {
            "text/plain": [
              "<Axes: >"
            ]
          },
          "metadata": {},
          "execution_count": 90
        },
        {
          "output_type": "display_data",
          "data": {
            "text/plain": [
              "<Figure size 640x480 with 1 Axes>"
            ],
            "image/png": "[encoded data removed]"
          },
          "metadata": {}
        }
      ]
    },
    {
      "cell_type": "code",
      "source": [
        "#5\n",
        "#Calculate proportion of male victims\n",
        "male_proportion = (df['Sex'] == 'M').mean()\n",
        "print(f\"Proportion of male victims: {male_proportion:.2f}\")\n"
      ],
      "metadata": {
        "id": "VbNjNW821Ep9",
        "outputId": "24c53e08-6a82-468f-a884-a9ed12a77785",
        "colab": {
          "base_uri": "https://localhost:8080/"
        }
      },
      "id": "VbNjNW821Ep9",
      "execution_count": 91,
      "outputs": [
        {
          "output_type": "stream",
          "name": "stdout",
          "text": [
            "Proportion of male victims: 0.80\n"
          ]
        }
      ]
    },
    {
      "cell_type": "code",
      "source": [
        "#6\n",
        "# Clean the Type column\n",
        "df['Type'] = df['Type'].apply(lambda x: 'Provoked' if str(x).strip().lower() == 'provoked' else\n",
        "                                        'Unprovoked' if str(x).strip().lower() == 'unprovoked' else\n",
        "                                        'Unknown')\n",
        "\n",
        "print(df['Type'].unique())\n",
        "# Calculate proportion of unprovoked attacks\n",
        "unprovoked_proportion = (df['Type'] == 'Unprovoked').mean()\n",
        "print(f\"Proportion of unprovoked attacks: {unprovoked_proportion:.2f}\")\n"
      ],
      "metadata": {
        "id": "68xDzpTz3ZwH",
        "outputId": "6aa3361b-327f-4860-b411-0a788be16b15",
        "colab": {
          "base_uri": "https://localhost:8080/"
        }
      },
      "id": "68xDzpTz3ZwH",
      "execution_count": 111,
      "outputs": [
        {
          "output_type": "stream",
          "name": "stdout",
          "text": [
            "['Provoked' 'Unprovoked' 'Unknown']\n",
            "Proportion of unprovoked attacks: 0.74\n"
          ]
        }
      ]
    },
    {
      "cell_type": "code",
      "source": [
        "#7\n",
        "# Categorize outcomes as Y, N, or Unknown\n",
        "\n",
        "# Clean the Fatal (Y/N) column\n",
        "df['Fatal Y/N'] = df['Fatal Y/N'].apply(lambda x: 'Y' if str(x).upper().startswith('Y') else\n",
        "                                                      'N' if str(x).upper().startswith('N') else\n",
        "                                                      'Unknown')\n",
        "# Check the unique values\n",
        "print(df['Fatal Y/N'].unique())\n"
      ],
      "metadata": {
        "id": "0o7IdjjM3f5A",
        "outputId": "836e50ae-8ec1-44fb-b720-6f98f5185af0",
        "colab": {
          "base_uri": "https://localhost:8080/"
        }
      },
      "id": "0o7IdjjM3f5A",
      "execution_count": 108,
      "outputs": [
        {
          "output_type": "stream",
          "name": "stdout",
          "text": [
            "['N' 'Y' 'Unknown']\n"
          ]
        }
      ]
    },
    {
      "cell_type": "code",
      "source": [
        "#8\n",
        "# Clean the Sex column\n",
        "df['Sex'] = df['Sex'].apply(lambda x: 'Male' if str(x).strip().upper() == 'M' else\n",
        "                                       'Female' if str(x).strip().upper() == 'F' else\n",
        "                                       'Other')\n",
        "# Unprovoked attacks by gender\n",
        "unprovoked_by_gender = df[df['Type'] == 'Unprovoked']['Sex'].value_counts(normalize=True)\n",
        "print(\"Proportion of unprovoked attacks by gender:\")\n",
        "print(unprovoked_by_gender)\n",
        "\n",
        "# Fatality rates by attack type and gender\n",
        "fatality_by_type = df.groupby('Type')['Fatal Y/N'].value_counts(normalize=True).unstack()\n",
        "fatality_by_gender = df.groupby('Sex')['Fatal Y/N'].value_counts(normalize=True).unstack()\n",
        "\n",
        "print(\"\\nFatality rates by attack type:\")\n",
        "print(fatality_by_type)\n",
        "print(\"\\nFatality rates by gender:\")\n",
        "print(fatality_by_gender)\n"
      ],
      "metadata": {
        "id": "4myBtdyR36Al",
        "outputId": "24cba865-6f4a-4771-f717-3322e6894046",
        "colab": {
          "base_uri": "https://localhost:8080/"
        }
      },
      "id": "4myBtdyR36Al",
      "execution_count": 113,
      "outputs": [
        {
          "output_type": "stream",
          "name": "stdout",
          "text": [
            "Proportion of unprovoked attacks by gender:\n",
            "Sex\n",
            "Male      0.837119\n",
            "Female    0.130072\n",
            "Other     0.032809\n",
            "Name: proportion, dtype: float64\n",
            "\n",
            "Fatality rates by attack type:\n",
            "Fatal Y/N          N   Unknown         Y\n",
            "Type                                    \n",
            "Provoked    0.949922  0.017214  0.032864\n",
            "Unknown     0.374167  0.461667  0.164167\n",
            "Unprovoked  0.741021  0.015919  0.243060\n",
            "\n",
            "Fatality rates by gender:\n",
            "Fatal Y/N         N   Unknown         Y\n",
            "Sex                                    \n",
            "Female     0.760101  0.088384  0.151515\n",
            "Male       0.696295  0.082829  0.220876\n",
            "Other      0.619863  0.191781  0.188356\n"
          ]
        }
      ]
    },
    {
      "cell_type": "markdown",
      "source": [
        "8) It seems that unprovoked men are more likely to get attack than unprovoked women. When Provoked attacks seem to be more fatal. Men seem to have higher fatality rates. Sharks are cool!"
      ],
      "metadata": {
        "id": "GcBoyO4F46Kz"
      },
      "id": "GcBoyO4F46Kz"
    },
    {
      "cell_type": "code",
      "source": [
        "#9\n",
        "# Clean the Species column\n",
        "df['Species'] = df['Species '].str.lower()\n",
        "\n",
        "# Count attacks by white sharks\n",
        "white_shark_attacks = df['Species'].str.contains('white').sum()\n",
        "\n",
        "# Count total attacks with species information\n",
        "total_attacks_with_species = df['Species'].notna().sum()\n",
        "\n",
        "# Calculate proportion\n",
        "proportion = white_shark_attacks / total_attacks_with_species\n",
        "\n",
        "print(f\"Proportion of attacks by white sharks: {proportion:.2f}\")\n"
      ],
      "metadata": {
        "id": "w3TJMXxq76wG",
        "outputId": "97d3e8ad-258d-4fbe-d984-3d8f08f24ac2",
        "colab": {
          "base_uri": "https://localhost:8080/"
        }
      },
      "id": "w3TJMXxq76wG",
      "execution_count": 116,
      "outputs": [
        {
          "output_type": "stream",
          "name": "stdout",
          "text": [
            "Proportion of attacks by white sharks: 0.19\n"
          ]
        }
      ]
    },
    {
      "cell_type": "markdown",
      "id": "5735a4d4-8be8-433a-a351-70eb8002e632",
      "metadata": {
        "id": "5735a4d4-8be8-433a-a351-70eb8002e632"
      },
      "source": [
        "**Q3.** Open the \"tidy_data.pdf\" document in the repo, which is a paper called Tidy Data by Hadley Wickham.\n",
        "\n",
        "  1. Read the abstract. What is this paper about?\n",
        "  2. Read the introduction. What is the \"tidy data standard\" intended to accomplish?\n",
        "  3. Read the intro to section 2. What does this sentence mean: \"Like families, tidy datasets are all alike but every messy dataset is messy in its own way.\" What does this sentence mean: \"For a given dataset, it’s usually easy to figure out what are observations and what are variables, but it is surprisingly difficult to precisely define variables and observations in general.\"\n",
        "  4. Read Section 2.2. How does Wickham define values, variables, and observations?\n",
        "  5. How is \"Tidy Data\" defined in section 2.3?\n",
        "  6. Read the intro to Section 3 and Section 3.1. What are the 5 most common problems with messy datasets? Why are the data in Table 4 messy? What is \"melting\" a dataset?\n",
        "  7. Why, specifically, is table 11 messy but table 12 tidy and \"molten\"?\n",
        "  8. Read Section 6. What is the \"chicken-and-egg\" problem with focusing on tidy data? What does Wickham hope happens in the future with further work on the subject of data wrangling?"
      ]
    },
    {
      "cell_type": "markdown",
      "source": [
        "1. The paper introduces the concept of tidy data, a structured approach to organizing datasets in a consistent format that makes analysis easier. Wickham discusses the principles of tidy data, identifies common problems with messy datasets, and demonstrates how data transformation techniques, such as reshaping, can be used to tidy messy data.\n",
        "\n",
        "2. The tidy data standard is meant to create a consistent framework for organizing datasets, making data cleaning and analysis more efficient. It ensures that data is structured in a way that aligns with standard statistical and machine learning tools, minimizing the need for extensive preprocessing before analysis.\n",
        "\n",
        "3. \"Like families, tidy datasets are all alike but every messy dataset is messy in its own way.\" This is a reference to Tolstoy’s Anna Karenina and suggests that tidy datasets follow a uniform structure, while messy datasets can be disorganized in many different ways.\n",
        "\n",
        "\"For a given dataset, it’s usually easy to figure out what are observations and what are variables, but it is surprisingly difficult to precisely define variables and observations in general.\" This means that while it’s often intuitive to distinguish variables (columns) and observations (rows) in a specific dataset, formally defining these concepts across all datasets is more challenging due to the diversity of data structures.\n",
        "\n",
        "4. Values: The individual pieces of data contained in a dataset.\n",
        "Variables: A measured characteristic.\n",
        "Observations: A collection of related values corresponding to a single entity.\n",
        "\n",
        "5. A dataset is tidy when:\n",
        "- Each variable forms a column.\n",
        "- Each observation forms a row.\n",
        "- Each type of observational unit forms a table.\n",
        "This structure ensures that data is organized in a way that facilitates analysis without requiring significant reshaping.\n",
        "\n",
        "6. Five common problems with messy data:\n",
        "- Column headers are values, not variable names.\n",
        "- Multiple variables are stored in one column.\n",
        "- Variables are stored in rows instead of columns.\n",
        "- Multiple types of observational units are stored in the same table.\n",
        "- A single observational unit is spread across multiple tables.\n",
        "\n",
        "Table 4 is messy because it does not follow the tidy data principles—variables are spread across multiple columns instead of being stored in a single variable column. Melting  is the process of transforming a dataset from a wide format to a long format, where each row corresponds to a single observation.\n",
        "\n",
        "7. Table 11 is messy because it contains multiple variables in a single column, making analysis difficult. Table 12 is tidy and molten because it has been transformed into a long format where each column corresponds to a variable, making it easier to analyze and manipulate.\n",
        "\n",
        "8. Wickham acknowledges that while tidy data makes analysis easier, most real-world datasets are messy. Since existing tools often assume tidy data, there is a challenge: should we focus on improving tools to handle messy data, or should we work on making more datasets tidy before analysis?\n",
        "Wickham hopes that future work will focus on improving data manipulation tools, making it easier to transform messy data into a tidy format. He also hopes for better integration of tidy data principles into statistical and data analysis workflows.\n",
        "\n",
        "\n",
        "\n"
      ],
      "metadata": {
        "id": "CrmH5_jAEf54"
      },
      "id": "CrmH5_jAEf54"
    },
    {
      "cell_type": "markdown",
      "id": "649494cd-cfd6-4f80-992a-9994fc19e1d5",
      "metadata": {
        "id": "649494cd-cfd6-4f80-992a-9994fc19e1d5"
      },
      "source": [
        "**Q4.** Many important datasets contain a race variable, typically limited to a handful of values often including Black, White, Asian, Latino, and Indigenous. This question looks at data gathering efforts on this variable by the U.S. Federal government.\n",
        "\n",
        "1. How did the most recent US Census gather data on race?\n",
        "2. Why do we gather these data? What role do these kinds of data play in politics and society? Why does data quality matter?\n",
        "3. Please provide a constructive criticism of how the Census was conducted: What was done well? What do you think was missing? How should future large scale surveys be adjusted to best reflect the diversity of the population? Could some of the Census' good practices be adopted more widely to gather richer and more useful data?\n",
        "4. How did the Census gather data on sex and gender? Please provide a similar constructive criticism of their practices.\n",
        "5. When it comes to cleaning data, what concerns do you have about protected characteristics like sex, gender, sexual identity, or race? What challenges can you imagine arising when there are missing values? What good or bad practices might people adopt, and why?\n",
        "6. Suppose someone invented an algorithm to impute values for protected characteristics like race, gender, sex, or sexuality. What kinds of concerns would you have?"
      ]
    }
  ],
  "metadata": {
    "colab": {
      "provenance": []
    },
    "kernelspec": {
      "display_name": "Python 3 (ipykernel)",
      "language": "python",
      "name": "python3"
    },
    "language_info": {
      "codemirror_mode": {
        "name": "ipython",
        "version": 3
      },
      "file_extension": ".py",
      "mimetype": "text/x-python",
      "name": "python",
      "nbconvert_exporter": "python",
      "pygments_lexer": "ipython3",
      "version": "3.10.4"
    }
  },
  "nbformat": 4,
  "nbformat_minor": 5
}